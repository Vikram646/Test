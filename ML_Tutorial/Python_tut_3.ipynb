{
 "cells": [
  {
   "cell_type": "markdown",
   "metadata": {},
   "source": [
    "# File Handling and File I/O basics."
   ]
  },
  {
   "cell_type": "markdown",
   "metadata": {},
   "source": [
    "\n",
    "# \"r\" - Open File in Read Mode\n",
    "# \"w\" - Open File in Write Mode\n",
    "# \"x\" - Creates File if not exist\n",
    "# \"a\" - Add more content of file/append\n",
    "# \"t\" - Text mode\n",
    "# \"b\" - Binary Mode\n",
    "# \"+\" - Read and Write both\n"
   ]
  },
  {
   "cell_type": "code",
   "execution_count": 3,
   "metadata": {},
   "outputs": [
    {
     "name": "stdout",
     "output_type": "stream",
     "text": [
      "<class 'str'>\n",
      "hello everyone\n",
      "my name is vikram\n",
      "\n",
      "\n"
     ]
    }
   ],
   "source": [
    "f=open(\"test.txt\",\"rt\")\n",
    "content=f.read()\n",
    "print(type(content))\n",
    "print(content)\n",
    "\n",
    "\n",
    "f.close()"
   ]
  },
  {
   "cell_type": "code",
   "execution_count": 4,
   "metadata": {},
   "outputs": [
    {
     "name": "stdout",
     "output_type": "stream",
     "text": [
      "hel\n"
     ]
    }
   ],
   "source": [
    "f=open(\"test.txt\",\"rt\")\n",
    "content=f.read(3)\n",
    "print(content)\n",
    "\n",
    "f.close()"
   ]
  },
  {
   "cell_type": "code",
   "execution_count": 8,
   "metadata": {},
   "outputs": [
    {
     "name": "stdout",
     "output_type": "stream",
     "text": [
      "h e l l o   e v e r y o n e \n",
      " m y   n a m e   i s   v i k r a m \n",
      " \n",
      " "
     ]
    }
   ],
   "source": [
    "f=open(\"test.txt\",\"rt\")\n",
    "content=f.read()\n",
    "\n",
    "for char in content:\n",
    "    print(char, end=\" \")\n",
    "\n",
    "f.close()"
   ]
  },
  {
   "cell_type": "code",
   "execution_count": 9,
   "metadata": {},
   "outputs": [
    {
     "name": "stdout",
     "output_type": "stream",
     "text": [
      "hello everyone\n",
      "\n",
      "my name is vikram\n",
      "\n"
     ]
    }
   ],
   "source": [
    "#Read line function\n",
    "f=open(\"test.txt\", \"rt\")\n",
    "\n",
    "# print(f.readline())\n",
    "# print(f.readline())\n",
    "\n",
    "for _ in range(2):\n",
    "    print(f.readline())\n",
    "\n"
   ]
  },
  {
   "cell_type": "code",
   "execution_count": 10,
   "metadata": {},
   "outputs": [
    {
     "name": "stdout",
     "output_type": "stream",
     "text": [
      "['hello everyone\\n', 'my name is vikram\\n', '\\n']\n"
     ]
    }
   ],
   "source": [
    "#readlines for print in form of list\n",
    "f=open(\"test.txt\", \"rt\")\n",
    "print(f.readlines())\n",
    "f.close()"
   ]
  },
  {
   "cell_type": "code",
   "execution_count": 12,
   "metadata": {},
   "outputs": [],
   "source": [
    "#Writing and Appending to file\n",
    "f=open(\"test_new\", \"wt\")\n",
    "f.write(\"Hello All!\")\n",
    "f.close()"
   ]
  },
  {
   "cell_type": "code",
   "execution_count": null,
   "metadata": {},
   "outputs": [],
   "source": [
    "f=open(\"test_new\", \"at\")\n",
    "f.write(\"\\nI hope you are Enjoying\")\n",
    "f.close()"
   ]
  },
  {
   "cell_type": "code",
   "execution_count": 13,
   "metadata": {},
   "outputs": [
    {
     "name": "stdout",
     "output_type": "stream",
     "text": [
      "hello everyone\n",
      "my name is vikram\n",
      "\n",
      "\n"
     ]
    }
   ],
   "source": [
    "# #Access file by  with Block\n",
    "with open(\"test.txt\",\"rt\") as f:#it replaces both functions like open and close\n",
    "    a=f.read()\n",
    "    print(a)\n"
   ]
  },
  {
   "cell_type": "markdown",
   "metadata": {},
   "source": [
    "# tell() and seek() method"
   ]
  },
  {
   "cell_type": "code",
   "execution_count": 14,
   "metadata": {},
   "outputs": [
    {
     "name": "stdout",
     "output_type": "stream",
     "text": [
      "0\n",
      "hello everyone\n",
      "\n",
      "15\n",
      "my name is vikram\n",
      "\n",
      "33\n"
     ]
    }
   ],
   "source": [
    "f=open(\"test.txt\",\"rt\")\n",
    "# #\n",
    "print(f.tell()) #It tells where is the position of file pointer in our case f\n",
    "print(f.readline())\n",
    "print(f.tell())\n",
    "print(f.readline())\n",
    "print(f.tell())"
   ]
  },
  {
   "cell_type": "code",
   "execution_count": null,
   "metadata": {},
   "outputs": [],
   "source": [
    "#Seek moves your file pointer to the position\n",
    "\n",
    "f.seek(0)\n",
    "print(f.tell())\n",
    "print(f.readline())"
   ]
  },
  {
   "cell_type": "code",
   "execution_count": null,
   "metadata": {},
   "outputs": [],
   "source": [
    "#enumerate() method\n",
    "\n",
    "lst=[\"soap\", \"vegetables\", \"tea\", \"coffee\"]\n",
    "\n",
    "# i=1\n",
    "# for item in lst:\n",
    "#     if i % 2 is not 0:\n",
    "#         print(f\"Buy this item: {item}\")\n",
    "#     i+=1\n",
    "\n",
    "for index, item in enumerate(lst):\n",
    "    # print(f\"{index} : {item}\")\n",
    "    if index%2==0:\n",
    "        print(f\"Buy this item: {item}\")"
   ]
  },
  {
   "cell_type": "markdown",
   "metadata": {},
   "source": [
    "# Comprehesion(List, Dictionary and generators)"
   ]
  },
  {
   "cell_type": "code",
   "execution_count": null,
   "metadata": {},
   "outputs": [],
   "source": [
    "# list=[]\n",
    "# for i in range(100):\n",
    "#     if i % 3 == 0:\n",
    "#         list.append(i)\n",
    "# #\n",
    "# print(list)\n",
    "\n",
    "# #Above code will be done by list comprehension\n",
    "#\n",
    "# list=[i for i in range(1,100) if i % 3 == 0 ]\n",
    "# list=[i for i in range(100) if i % 3 == 0]\n",
    "# print(list)\n",
    "# # #\n",
    "\n",
    "\n",
    "\n",
    "#Assignment: Create a dictionary from a given dictionary having keys and values to be interchanged\n",
    "\n",
    "\n",
    "# # #Dictionary Comprehension\n",
    "# dict1={i:f\"Item {i}\" for i in range(5)}\n",
    "# dict2={a:b for b,a in dict1.items()}\n",
    "# print(dict1)\n",
    "# print(dict2)\n",
    "\n",
    "\n",
    "# # #\n",
    "# # #\n",
    "# # # #set Comprehension\n",
    "# dresses={dress for dress in [\"dress1\", \"dress2\", \"dress3\", \"dress2\"]}\n",
    "# print (dresses)\n",
    "\n",
    "\n",
    "\n",
    "# #\n",
    "# #\n",
    "# # # #Generators Comprehensions\n",
    "evens=(i for i in range(100) if i % 5 ==0)\n",
    "print(evens)\n",
    "for _ in range(5):\n",
    "    print(evens.__next__())\n",
    "# print(evens.__next__())\n",
    "# print(evens.__next__())\n",
    "# print(evens.__next__())\n",
    "# print(evens.__next__())"
   ]
  },
  {
   "cell_type": "code",
   "execution_count": null,
   "metadata": {},
   "outputs": [],
   "source": [
    "#random module in python\n",
    "\n",
    "import random\n",
    "#\n",
    "random_number=random.randint(90,100)\n",
    "# # # # #\n",
    "print(random_number)\n",
    "# # # # #\n",
    "# rand=random.random()\n",
    "# print(rand) # It generates number from 0 to 1\n",
    "# # # # #\n",
    "# # # #\n",
    "lst=[\"StarPlus\", \"DD1\", \"AAJTak\"]\n",
    "choice=random.choice(lst)\n",
    "print(choice)"
   ]
  },
  {
   "cell_type": "markdown",
   "metadata": {},
   "source": [
    "# OS module(It is built in module )"
   ]
  },
  {
   "cell_type": "code",
   "execution_count": 1,
   "metadata": {},
   "outputs": [
    {
     "name": "stdout",
     "output_type": "stream",
     "text": [
      "C:\\Program Files (x86)\\Common Files\\Oracle\\Java\\javapath;C:\\Windows\\system32;C:\\Windows;C:\\Windows\\System32\\Wbem;C:\\Windows\\System32\\WindowsPowerShell\\v1.0\\;C:\\Windows\\System32\\OpenSSH\\;C:\\Program Files (x86)\\NVIDIA Corporation\\PhysX\\Common;C:\\Program Files\\NVIDIA Corporation\\NVIDIA NvDLISR;C:\\Program Files\\Git\\cmd;C:\\Users\\Vikram\\AppData\\Local\\Programs\\Python\\Python39\\;C:\\Users\\Vikram\\AppData\\Local\\Microsoft\\WindowsApps;C:\\Users\\Vikram\\AppData\\Local\\Programs\\Microsoft VS Code\\bin;C:\\MinGW\\bin;C:\\Users\\Vikram\\AppData\\Local\\Packages\\PythonSoftwareFoundation.Python.3.9_qbz5n2kfra8p0\\LocalCache\\local-packages\\Python39\\Scripts;C:\\flutter\\bin;\n"
     ]
    }
   ],
   "source": [
    "import os\n",
    "\n",
    "# print(dir(os)) #Object Introspection\n",
    "\n",
    "# print(os.getcwd())\n",
    "\n",
    "\n",
    "# os.chdir(\"C://\")\n",
    "# # print(os.getcwd())\n",
    "\n",
    "# f=open(\"test.txt\")\n",
    "\n",
    "\n",
    "# print(os.listdir())\n",
    "\n",
    "\n",
    "# os.mkdir(\"This/this\")\n",
    "# os.makedirs(\"This/that\")\n",
    "\n",
    "\n",
    "\n",
    "# os.rename(test_1, test_2)\n",
    "\n",
    "\n",
    "print(os.environ.get(\"Path\"))\n",
    "\n",
    "\n",
    "\n",
    "#print(os.path.exists(\"C:\\\\\"))\n",
    "\n",
    "\n",
    "\n",
    "#print(os.path.isfile(\"C:\\\\Program Files\"))"
   ]
  },
  {
   "cell_type": "code",
   "execution_count": null,
   "metadata": {},
   "outputs": [],
   "source": []
  }
 ],
 "metadata": {
  "kernelspec": {
   "display_name": "Python 3",
   "language": "python",
   "name": "python3"
  },
  "language_info": {
   "codemirror_mode": {
    "name": "ipython",
    "version": 3
   },
   "file_extension": ".py",
   "mimetype": "text/x-python",
   "name": "python",
   "nbconvert_exporter": "python",
   "pygments_lexer": "ipython3",
   "version": "3.9.2"
  }
 },
 "nbformat": 4,
 "nbformat_minor": 4
}
