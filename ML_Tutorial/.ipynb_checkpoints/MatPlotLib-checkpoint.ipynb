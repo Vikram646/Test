{
 "cells": [
  {
   "cell_type": "markdown",
   "metadata": {},
   "source": [
    "# Line Graph in MatPlotLib"
   ]
  },
  {
   "cell_type": "code",
   "execution_count": null,
   "metadata": {},
   "outputs": [],
   "source": [
    "import numpy as np\n",
    "import matplotlib.pyplot as plt\n",
    "#from matplotlib import pyplot as plt\n",
    "\n",
    "t=np.arange(0.0, 2.0, 0.01)\n",
    "s= np.cos(2*np.pi*t)\n",
    "\n",
    "plt.plot(t,s)\n",
    "plt.grid()\n",
    "\n",
    "\n",
    "plt.xlabel('Time(t)')\n",
    "plt.ylabel('Voltage(mV)')\n",
    "plt.title('Cosine Wave Plot(Cos(x))')\n",
    "plt.show()\n"
   ]
  },
  {
   "cell_type": "markdown",
   "metadata": {},
   "source": [
    "# SubPlot in MatplotLib\n"
   ]
  },
  {
   "cell_type": "code",
   "execution_count": null,
   "metadata": {},
   "outputs": [],
   "source": [
    "# import numpy as np\n",
    "# import matplotlib.pyplot as plt\n",
    "\n",
    "x1=np.linspace(0.0, 5.0)\n",
    "\n",
    "x2=np.linspace(0.0, 2.0)\n",
    "\n",
    "\n",
    "y1=np.cos(2*np.pi*x1)*np.exp(-x1)\n",
    "y2=np.cos(2*np.pi*x2)\n",
    "\n",
    "plt.subplot(2,1,1)\n",
    "plt.plot(x1,y1,'r-')\n",
    "plt.title('Subplot-1')\n",
    "plt.xlabel('x1')\n",
    "plt.ylabel('Amp(y1)')\n",
    "\n",
    "plt.subplot(2,1,2)\n",
    "plt.plot(x2,y2,'*')\n",
    "plt.title('Subplot-2')\n",
    "plt.xlabel('x2')\n",
    "plt.ylabel('Amp(y2)')\n"
   ]
  },
  {
   "cell_type": "markdown",
   "metadata": {},
   "source": [
    "# Bar Graph in MatplotLib"
   ]
  },
  {
   "cell_type": "code",
   "execution_count": null,
   "metadata": {},
   "outputs": [],
   "source": [
    "#Bar Graph is along only one axis for eg y axis:(ie country in x axis and there population in y axis)\n",
    "import matplotlib.pyplot as plt\n",
    "x=[1,2,3,4,5]\n",
    "y=[10,24,36,40,5]\n",
    "\n",
    "a=['India', 'Australia', 'Brazil', 'China', 'Egypt']\n",
    "\n",
    "plt.bar(x, y, tick_label=a, width=0.7, color=['green', 'blue', 'brown'])\n",
    "\n",
    "plt.xlabel('x-axis')\n",
    "plt.ylabel('y-axis')\n",
    "\n",
    "plt.title('Bar Graph')\n",
    "plt.show()\n",
    "\n",
    "\n"
   ]
  },
  {
   "cell_type": "markdown",
   "metadata": {},
   "source": [
    "# Histogram by matPlotLib"
   ]
  },
  {
   "cell_type": "code",
   "execution_count": null,
   "metadata": {},
   "outputs": [],
   "source": [
    "#It is used for frequency measurement of any one variable(for eg: If you need age distribution for any particular company,\n",
    "#intensity/color distribution in image and video)\n",
    "\n",
    "import matplotlib.pyplot as plt\n",
    "\n",
    "ages=[2,50,70,40,30,45,50,45,43,40,44,60, 7, 13, 51, 18,90,77,32,21,20,40]\n",
    "\n",
    "range=(0,100)\n",
    "bins=10 #In how many distribution we want to distribute\n",
    "\n",
    "plt.hist(ages, bins, range, color='green', histtype='bar', rwidth=0.7)\n",
    "plt.xlabel('Ages')\n",
    "plt.ylabel('Bins')\n",
    "\n",
    "\n",
    "plt.title('Histogram Plot')\n",
    "plt.show()"
   ]
  },
  {
   "cell_type": "markdown",
   "metadata": {},
   "source": [
    "# Scatter Plot in MatPlotLib"
   ]
  },
  {
   "cell_type": "code",
   "execution_count": null,
   "metadata": {},
   "outputs": [],
   "source": [
    "import matplotlib.pyplot as plt\n",
    "\n",
    "x=[1,2,3,4,5,6,7,8,9,10]\n",
    "y=[2,4,5,7,6,8,9,10,12,11]\n",
    "y1=[1,2,1,2,3,4,3,2,1,2]\n",
    "\n",
    "plt.scatter(x,y,label='stars', color='green', marker=\"*\", s=160)\n",
    "plt.scatter(x,y1,label='circle', color='blue', marker=\"o\", s=30)\n",
    "\n",
    "plt.xlabel('x-axis')\n",
    "plt.ylabel('y-label')\n",
    "\n",
    "plt.title('Scatter Plot')\n",
    "\n",
    "plt.legend()\n",
    "plt.show()"
   ]
  },
  {
   "cell_type": "markdown",
   "metadata": {},
   "source": [
    "# PIE Chart using MAtPlotLib"
   ]
  },
  {
   "cell_type": "code",
   "execution_count": null,
   "metadata": {},
   "outputs": [],
   "source": [
    "import matplotlib.pyplot as plt\n",
    "\n",
    "activities=['eat', 'sleep', 'work', 'play']\n",
    "slice=[3,7,8,6]\n",
    "color=['r', 'g', 'm', 'b']\n",
    "\n",
    "plt.pie(slice, labels=activities, colors=color, startangle=90,shadow=True, \n",
    "       explode=(0.2,0,0,0.4), autopct='%1.2f%%')\n",
    "plt.legend()\n",
    "plt.show()"
   ]
  },
  {
   "cell_type": "markdown",
   "metadata": {},
   "source": [
    "# Plot Merging using MatPlotLib"
   ]
  },
  {
   "cell_type": "code",
   "execution_count": null,
   "metadata": {},
   "outputs": [],
   "source": [
    "import matplotlib.pyplot as plt\n",
    "import numpy as np\n",
    "\n",
    "x=np.arange(0,2*np.pi, 0.01)\n",
    "y1=np.sin(x)\n",
    "y2=np.cos(x)\n",
    "y3=np.exp(-x)\n",
    "\n",
    "plt.plot(x,y1,label='sin')\n",
    "plt.plot(x,y2, label='cos')\n",
    "plt.plot(x,y3,label='exp')\n",
    "\n",
    "plt.xlabel('x-axis')\n",
    "plt.ylabel('y-axis')\n",
    "plt.grid()\n",
    "\n",
    "plt.legend()\n",
    "\n",
    "plt.title('Sine and cosine Function')\n",
    "\n",
    "plt.show()"
   ]
  },
  {
   "cell_type": "markdown",
   "metadata": {},
   "source": [
    "# Plot data from csv file using MatPlotLib"
   ]
  },
  {
   "cell_type": "code",
   "execution_count": null,
   "metadata": {},
   "outputs": [],
   "source": [
    "import matplotlib.pyplot as plt\n",
    "import csv\n",
    "\n",
    "x= []\n",
    "y= []\n",
    "\n",
    "with open('test.csv','r')as csvfile:\n",
    "    plots = csv.reader(csvfile)\n",
    "    for col in plots:\n",
    "        x.append(col[0])\n",
    "        y.append(col[1])\n",
    "        \n",
    "plt.plot(x,y,label='File',color='green')\n",
    "plt.xlabel('x-axis')\n",
    "plt.ylabel('y-axis')\n",
    "plt.grid()\n",
    "\n",
    "plt.title('Test Graph')\n",
    "\n",
    "plt.legend()\n",
    "\n",
    "plt.show()\n"
   ]
  },
  {
   "cell_type": "code",
   "execution_count": null,
   "metadata": {},
   "outputs": [],
   "source": []
  }
 ],
 "metadata": {
  "kernelspec": {
   "display_name": "Python 3",
   "language": "python",
   "name": "python3"
  },
  "language_info": {
   "codemirror_mode": {
    "name": "ipython",
    "version": 3
   },
   "file_extension": ".py",
   "mimetype": "text/x-python",
   "name": "python",
   "nbconvert_exporter": "python",
   "pygments_lexer": "ipython3",
   "version": "3.9.2"
  }
 },
 "nbformat": 4,
 "nbformat_minor": 2
}
