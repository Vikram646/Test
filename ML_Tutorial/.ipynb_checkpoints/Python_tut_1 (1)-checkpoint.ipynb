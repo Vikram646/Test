{
 "cells": [
  {
   "cell_type": "markdown",
   "metadata": {},
   "source": [
    "# Hello Welcome to python Session 1"
   ]
  },
  {
   "cell_type": "code",
   "execution_count": 5,
   "metadata": {},
   "outputs": [
    {
     "name": "stdout",
     "output_type": "stream",
     "text": [
      "Hello World Python\n"
     ]
    }
   ],
   "source": [
    "print(\"Hello World\", end=\" \")\n",
    "print(\"Python\")"
   ]
  },
  {
   "cell_type": "code",
   "execution_count": null,
   "metadata": {},
   "outputs": [],
   "source": [
    "# a=2+3\n",
    "# print(a)"
   ]
  },
  {
   "cell_type": "markdown",
   "metadata": {},
   "source": [
    "# Variables and Data Types\n",
    "integer, float, string, boolean, complex. The python programming follows the concept of dynamic declaration meaning we do not have to declare the data typeof the variable it is automatically assigned based on the value we are storing in the variable. To checj the type of variable we use the type comamnd and then use the print command to print it."
   ]
  },
  {
   "cell_type": "code",
   "execution_count": null,
   "metadata": {},
   "outputs": [],
   "source": [
    "print(type(a))"
   ]
  },
  {
   "cell_type": "code",
   "execution_count": null,
   "metadata": {},
   "outputs": [],
   "source": [
    "# b=23.5\n",
    "# c=\"Hello\"\n",
    "# d=\"x\"\n",
    "# e=True\n",
    "# f=3 + 5j\n",
    "\n",
    "# print(\"type of b is\", type(b))\n",
    "# print(\"type of c is\", type(c))\n",
    "# print(\"type of d is\", type(d))\n",
    "# print(\"type of e is\", type(e))\n",
    "# print(\"type of f is\", type(f))"
   ]
  },
  {
   "cell_type": "code",
   "execution_count": null,
   "metadata": {},
   "outputs": [],
   "source": [
    "#Input Command\n",
    "\n",
    "# var1=input(\"Enter value of var: \")\n",
    "# print(type(var))"
   ]
  },
  {
   "cell_type": "code",
   "execution_count": null,
   "metadata": {},
   "outputs": [],
   "source": [
    "# var2=int(input(\"Enter value of var2: \"))\n",
    "# print(type(var2))"
   ]
  },
  {
   "cell_type": "code",
   "execution_count": null,
   "metadata": {},
   "outputs": [],
   "source": [
    "#Concatenation (+ operator and string as operand it concanate two strings)\n",
    "# var3=\"Hello\"\n",
    "# var4=\"World\"\n",
    "# print(var3+var4)"
   ]
  },
  {
   "cell_type": "code",
   "execution_count": null,
   "metadata": {},
   "outputs": [],
   "source": [
    "#Repetation operation(* operator and one operand as integer and another operand as string it repeats string number of times equal to the integer)\n",
    "# var5=5\n",
    "# var6=\"Nitesh\"\n",
    "# print(var5*var6)"
   ]
  },
  {
   "cell_type": "code",
   "execution_count": 12,
   "metadata": {},
   "outputs": [
    {
     "name": "stdout",
     "output_type": "stream",
     "text": [
      "eagadosnhy\n"
     ]
    }
   ],
   "source": [
    "#String Slicing\n",
    "mystr=\"Pythonisgoodlanguage\"\n",
    "# print(type(mystr))\n",
    "# print(len(mystr))\n",
    "\n",
    "# print(mystr[0:6]) #Excludes the last index ie it does not consider the character at index 6\n",
    "\n",
    "# print(mystr[:])#Initial index to be zero and last index to be equal to len of string\n",
    "\n",
    "# print(mystr[::2]) #It includes step size of two\n",
    "\n",
    "print(mystr[::-2])#It reverse the string"
   ]
  },
  {
   "cell_type": "code",
   "execution_count": 13,
   "metadata": {},
   "outputs": [
    {
     "name": "stdout",
     "output_type": "stream",
     "text": [
      "True\n"
     ]
    }
   ],
   "source": [
    "#Methods of class str\n",
    "print(mystr.isalnum())\n",
    "\n",
    "# print(mystr.endswith(\"Language\"))\n",
    "\n",
    "# print(mystr.count(\"p\"))\n",
    "\n",
    "# print(mystr.capitalize())\n",
    "\n",
    "# print(mystr.lower())\n",
    "\n",
    "# print(mystr.upper())\n",
    "\n",
    "# print(mystr.replace(\"is\", \"are\"))"
   ]
  },
  {
   "cell_type": "markdown",
   "metadata": {},
   "source": [
    "# List:\n",
    "Lists are used to store multiple items in a single variable.\n",
    "\n",
    "\n",
    "# List Items\n",
    "List items are ordered, changeable, and allow duplicate values.\n",
    "\n",
    "List items are indexed, the first item has index [0], the second item has index [1] etc.\n",
    "\n",
    "# Ordered\n",
    "When we say that lists are ordered, it means that the items have a defined order, and that order will not change.\n",
    "\n",
    "If you add new items to a list, the new items will be placed at the end of the list.\n",
    "\n",
    "List are written with a square bracket."
   ]
  },
  {
   "cell_type": "code",
   "execution_count": null,
   "metadata": {},
   "outputs": [],
   "source": [
    "# groceery=[\"Deo\", \"Soap\", \"Pencil\", \"Utensils\"]\n",
    "\n",
    "# print(type(groceery))\n",
    "\n",
    "# print(groceery[0])\n",
    "\n",
    "# print(groceery[::-1])\n"
   ]
  },
  {
   "cell_type": "code",
   "execution_count": null,
   "metadata": {},
   "outputs": [],
   "source": [
    "# numbers=[2, 56, 18, 9, 67]\n",
    "\n",
    "# numbers[2]=88\n",
    "\n",
    "# numbers.sort()\n",
    "\n",
    "# numbers.reverse()\n",
    "\n",
    "# print(numbers[0:4])\n",
    "\n",
    "# print(len(numbers))\n",
    "\n",
    "# print(max(numbers))\n",
    "\n",
    "# print(min(numbers))\n",
    "\n",
    "# print(numbers[::2])\n",
    "\n",
    "# print(numbers[::-1])\n",
    "\n",
    "# numbers.append(49)\n",
    "\n",
    "# numbers.insert(2,33)\n",
    "\n",
    "# numbers.remove(9)\n",
    "\n",
    "# b=[1,2,3,4,5]\n",
    "\n",
    "# numbers.extend(b)\n",
    "\n",
    "# numbers.pop()"
   ]
  },
  {
   "cell_type": "code",
   "execution_count": 14,
   "metadata": {},
   "outputs": [
    {
     "name": "stdout",
     "output_type": "stream",
     "text": [
      "9\n"
     ]
    }
   ],
   "source": [
    "a=[5,67,[1,4,[8,9]],\"hello\",\"test\"]\n",
    "\n",
    "var=a[2][2][1]\n",
    "\n",
    "print(var)"
   ]
  },
  {
   "cell_type": "markdown",
   "metadata": {},
   "source": [
    "# Tuple:\n",
    "Tuples are used to store multiple items in a single variable.\n",
    "\n",
    "A tuple is a collection which is ordered and unchangeable.\n",
    "\n",
    "Tuples are written with round brackets."
   ]
  },
  {
   "cell_type": "code",
   "execution_count": 15,
   "metadata": {},
   "outputs": [
    {
     "ename": "TypeError",
     "evalue": "'tuple' object does not support item assignment",
     "output_type": "error",
     "traceback": [
      "\u001b[1;31m---------------------------------------------------------------------------\u001b[0m",
      "\u001b[1;31mTypeError\u001b[0m                                 Traceback (most recent call last)",
      "\u001b[1;32m<ipython-input-15-9e2f1daab909>\u001b[0m in \u001b[0;36m<module>\u001b[1;34m\u001b[0m\n\u001b[0;32m      3\u001b[0m \u001b[1;31m# print(type(tp))\u001b[0m\u001b[1;33m\u001b[0m\u001b[1;33m\u001b[0m\u001b[1;33m\u001b[0m\u001b[0m\n\u001b[0;32m      4\u001b[0m \u001b[1;33m\u001b[0m\u001b[0m\n\u001b[1;32m----> 5\u001b[1;33m \u001b[0mtp\u001b[0m\u001b[1;33m[\u001b[0m\u001b[1;36m1\u001b[0m\u001b[1;33m]\u001b[0m\u001b[1;33m=\u001b[0m\u001b[1;36m8\u001b[0m\u001b[1;33m\u001b[0m\u001b[1;33m\u001b[0m\u001b[0m\n\u001b[0m\u001b[0;32m      6\u001b[0m \u001b[1;33m\u001b[0m\u001b[0m\n\u001b[0;32m      7\u001b[0m \u001b[0mprint\u001b[0m\u001b[1;33m(\u001b[0m\u001b[0mtp\u001b[0m\u001b[1;33m)\u001b[0m\u001b[1;33m\u001b[0m\u001b[1;33m\u001b[0m\u001b[0m\n",
      "\u001b[1;31mTypeError\u001b[0m: 'tuple' object does not support item assignment"
     ]
    }
   ],
   "source": [
    "tp=(1,2,3)\n",
    "\n",
    "# print(type(tp))\n",
    "\n",
    "tp[1]=8\n",
    "\n",
    "print(tp)"
   ]
  },
  {
   "cell_type": "markdown",
   "metadata": {},
   "source": [
    "# Dictionary:\n",
    "Dictionaries are used to store data values in key:value pairs.\n",
    "\n",
    "A dictionary is a collection which is unordered, changeable and does not allow duplicates.\n",
    "\n",
    "Dictionaries are written with curly brackets, and have keys and values:"
   ]
  },
  {
   "cell_type": "code",
   "execution_count": 17,
   "metadata": {},
   "outputs": [
    {
     "name": "stdout",
     "output_type": "stream",
     "text": [
      "<class 'dict'>\n",
      "{'brand': 'Ford', 'model': 'Mustang', 'year': 2020}\n"
     ]
    }
   ],
   "source": [
    "thisdict = {\n",
    "  \"brand\": \"Ford\",\n",
    "  \"model\": \"Mustang\",\n",
    "  \"year\": 1964,\n",
    "  \"year\": 2020\n",
    "}\n",
    "print(type(thisdict))\n",
    "print(thisdict)"
   ]
  },
  {
   "cell_type": "code",
   "execution_count": 18,
   "metadata": {},
   "outputs": [
    {
     "name": "stdout",
     "output_type": "stream",
     "text": [
      "3\n"
     ]
    }
   ],
   "source": [
    "print(len(thisdict))"
   ]
  },
  {
   "cell_type": "code",
   "execution_count": null,
   "metadata": {},
   "outputs": [],
   "source": [
    "# thisdict = {\n",
    "#   \"brand\": \"Ford\",\n",
    "#   \"electric\": False,\n",
    "#   \"year\": 1964,\n",
    "#   \"colors\": [\"red\", \"white\", \"blue\"]\n",
    "# }"
   ]
  },
  {
   "cell_type": "code",
   "execution_count": 19,
   "metadata": {},
   "outputs": [
    {
     "name": "stdout",
     "output_type": "stream",
     "text": [
      "Ford\n"
     ]
    }
   ],
   "source": [
    "print(thisdict[\"brand\"])"
   ]
  },
  {
   "cell_type": "code",
   "execution_count": 21,
   "metadata": {},
   "outputs": [
    {
     "name": "stdout",
     "output_type": "stream",
     "text": [
      "{'brand': 'Ford', 'model': 'Mustang', 'year': 2020, 'engine': 'Diesel'}\n",
      "{'brand': 'Ford', 'model': 'Mustang', 'year': 2020, 'engine': 'Petrol'}\n"
     ]
    }
   ],
   "source": [
    "thisdict[\"engine\"] = \"Diesel\"\n",
    "print(thisdict)\n",
    "\n",
    "thisdict[\"engine\"] = \"Petrol\"\n",
    "print(thisdict)"
   ]
  },
  {
   "cell_type": "code",
   "execution_count": 22,
   "metadata": {},
   "outputs": [
    {
     "name": "stdout",
     "output_type": "stream",
     "text": [
      "dict_keys(['brand', 'model', 'year', 'engine'])\n"
     ]
    }
   ],
   "source": [
    "print(thisdict.keys())"
   ]
  },
  {
   "cell_type": "code",
   "execution_count": 23,
   "metadata": {},
   "outputs": [
    {
     "name": "stdout",
     "output_type": "stream",
     "text": [
      "dict_values(['Ford', 'Mustang', 2020, 'Petrol'])\n"
     ]
    }
   ],
   "source": [
    "print(thisdict.values())"
   ]
  },
  {
   "cell_type": "code",
   "execution_count": 24,
   "metadata": {},
   "outputs": [
    {
     "name": "stdout",
     "output_type": "stream",
     "text": [
      "dict_items([('brand', 'Ford'), ('model', 'Mustang'), ('year', 2020), ('engine', 'Petrol')])\n"
     ]
    }
   ],
   "source": [
    "print(thisdict.items())"
   ]
  },
  {
   "cell_type": "markdown",
   "metadata": {},
   "source": [
    "# Sets:\n",
    "Sets are used to store multiple items in a single variable.\n",
    "\n",
    "A set is a collection which is both unordered and unindexed.\n",
    "\n",
    "Sets are written with curly brackets."
   ]
  },
  {
   "cell_type": "code",
   "execution_count": 28,
   "metadata": {},
   "outputs": [
    {
     "name": "stdout",
     "output_type": "stream",
     "text": [
      "<class 'set'>\n",
      "{1, 2, 3, 4, 7, 9}\n",
      "{1, 2}\n",
      "{1, 2, 3}\n"
     ]
    }
   ],
   "source": [
    "s=set()\n",
    "\n",
    "print(type(s))\n",
    "\n",
    "s_from_list=set([1,2,3,4,4,9,7,7])\n",
    "\n",
    "print(s_from_list)\n",
    "\n",
    "s.add(1)\n",
    "s.add(2)\n",
    "\n",
    "print(s)\n",
    "\n",
    "s1=s.union({1,2,3})\n",
    "\n",
    "print(s1)\n",
    "\n",
    "#len, type, max, min, difference, issubset, isdisjoint , issupperset etc\n"
   ]
  },
  {
   "cell_type": "markdown",
   "metadata": {},
   "source": [
    "# Operators in Python\n",
    "# 1) Arithmetic Operators\n",
    "# 2)Comparision Operators\n",
    "# 3)Logical Operator\n",
    "# 4)Identity Operator\n",
    "# 5)MemberShip Operators\n",
    "# 6)Assignment Operators"
   ]
  },
  {
   "cell_type": "code",
   "execution_count": 32,
   "metadata": {},
   "outputs": [
    {
     "name": "stdout",
     "output_type": "stream",
     "text": [
      "5 + 6 is 11\n",
      "5 - 6 is -1\n",
      "5 * 6 is 30\n",
      "5 ** 6 is 15625\n",
      "15625\n",
      "5 / 6 is 0.8333333333333334\n",
      "15 % 40 15\n",
      "5 // 6 is 0\n"
     ]
    }
   ],
   "source": [
    "print(\"5 + 6 is\", 5+6)\n",
    "print(\"5 - 6 is\", 5-6)\n",
    "print(\"5 * 6 is\", 5*6)\n",
    "print(\"5 ** 6 is\", 5**6)\n",
    "print(pow(5,6))\n",
    "print(\"5 / 6 is\", 5/6)\n",
    "print(\"15 % 40\",15%40)\n",
    "print(\"5 // 6 is\", 5//6)"
   ]
  },
  {
   "cell_type": "code",
   "execution_count": 33,
   "metadata": {},
   "outputs": [
    {
     "name": "stdout",
     "output_type": "stream",
     "text": [
      "8\n",
      "True\n",
      "True\n"
     ]
    }
   ],
   "source": [
    "#Comparision Operator\n",
    "i=int(input())\n",
    "print(i = 8)\n",
    "print(i>=5)\n",
    "print(i!=6)\n"
   ]
  },
  {
   "cell_type": "code",
   "execution_count": 34,
   "metadata": {},
   "outputs": [
    {
     "name": "stdout",
     "output_type": "stream",
     "text": [
      "False\n",
      "True\n"
     ]
    }
   ],
   "source": [
    "#Logicall Operator\n",
    "a=True\n",
    "b=False\n",
    "\n",
    "print(a and b)\n",
    "print(a or b)"
   ]
  },
  {
   "cell_type": "code",
   "execution_count": 36,
   "metadata": {},
   "outputs": [
    {
     "name": "stdout",
     "output_type": "stream",
     "text": [
      "True\n"
     ]
    }
   ],
   "source": [
    "#Identity Operator\n",
    "# print(a is b)\n",
    "# print(a is not b)\n",
    "\n",
    "\n",
    "yoga_day=\"Tuesday\"\n",
    "today=\"Tuesday\"\n",
    "# # #\n",
    "print(today is yoga_day)"
   ]
  },
  {
   "cell_type": "code",
   "execution_count": 37,
   "metadata": {},
   "outputs": [
    {
     "name": "stdout",
     "output_type": "stream",
     "text": [
      "True\n",
      "False\n"
     ]
    }
   ],
   "source": [
    "#MemberShip Operator\n",
    "list=[3, 5, 9, 33, 25]\n",
    "print(13 not in list)\n",
    "print(13  in list)"
   ]
  },
  {
   "cell_type": "code",
   "execution_count": 38,
   "metadata": {},
   "outputs": [
    {
     "name": "stdout",
     "output_type": "stream",
     "text": [
      "7\n"
     ]
    }
   ],
   "source": [
    "#bit wise operator &(bit wise and), |(bit wise or)\n",
    "\n",
    "print(5|2)"
   ]
  },
  {
   "cell_type": "code",
   "execution_count": null,
   "metadata": {},
   "outputs": [],
   "source": []
  }
 ],
 "metadata": {
  "kernelspec": {
   "display_name": "Python 3",
   "language": "python",
   "name": "python3"
  },
  "language_info": {
   "codemirror_mode": {
    "name": "ipython",
    "version": 3
   },
   "file_extension": ".py",
   "mimetype": "text/x-python",
   "name": "python",
   "nbconvert_exporter": "python",
   "pygments_lexer": "ipython3",
   "version": "3.9.2"
  }
 },
 "nbformat": 4,
 "nbformat_minor": 4
}
